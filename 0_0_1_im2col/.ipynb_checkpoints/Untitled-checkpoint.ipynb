{
 "cells": [
  {
   "cell_type": "markdown",
   "metadata": {},
   "source": [
    "# Create images and kernels"
   ]
  },
  {
   "cell_type": "code",
   "execution_count": 36,
   "metadata": {},
   "outputs": [],
   "source": [
    "import numpy as np\n",
    "import seaborn as sns\n",
    "from utils import timeit\n",
    "import matplotlib.pyplot as plt"
   ]
  },
  {
   "cell_type": "markdown",
   "metadata": {},
   "source": [
    "## 2D Space\n",
    "---"
   ]
  },
  {
   "cell_type": "code",
   "execution_count": 37,
   "metadata": {},
   "outputs": [],
   "source": [
    "def output_dim(X,F,s,p):\n",
    "    ''' Returns the output dimension of a convolution'''\n",
    "    return int((X.shape[0] + 2*p - F.shape[0])/s + 1)"
   ]
  },
  {
   "cell_type": "code",
   "execution_count": 38,
   "metadata": {},
   "outputs": [],
   "source": [
    "def convolve_region(X,F):\n",
    "    ''' Convolves the kernel with the \n",
    "    same size subregion of the image '''\n",
    "    out = 0\n",
    "    K = F.shape[0]\n",
    "    for i in range(K):\n",
    "        for j in range(K):\n",
    "            out += X[i,j] * F[i,j]\n",
    "    return out"
   ]
  },
  {
   "cell_type": "code",
   "execution_count": 39,
   "metadata": {},
   "outputs": [],
   "source": [
    "@timeit\n",
    "def naiveconv1(X, F, s=1, p=0):\n",
    "    ''' Convolve 1 channel with 1 filter \n",
    "        Assume square images and kernels '''\n",
    "    # Compute output dimensions\n",
    "    O = int(output_dim(X,F,s,p))\n",
    "    N = 1 ## 1 will be number of filters\n",
    "    K = F.shape[0]\n",
    "    FM = np.zeros((N,O,O)) \n",
    "    \n",
    "    # Sliding filter horizontally\n",
    "    for i in range(O):\n",
    "        # Sliding filter vertically\n",
    "        for j in range(O):\n",
    "             # Convolve the filter on that region of the image\n",
    "             FM[0,i,j] = convolve_region(X[i:K+i, j:K+j], F)\n",
    "    return FM"
   ]
  },
  {
   "cell_type": "code",
   "execution_count": 40,
   "metadata": {},
   "outputs": [],
   "source": [
    "@timeit\n",
    "def im2col(X, F, s=1, p=0):\n",
    "    ''' im2col '''\n",
    "    K = F.shape[0]\n",
    "    O = output_dim(X,F,s,p)\n",
    "    O1, O2 = K**2, output_dim(X,F,s,p)**2 # Review\n",
    "    X_ = np.zeros((O1,O2))\n",
    "    \n",
    "    col = 0\n",
    "    # Sliding horizontally\n",
    "    for i in range(O):\n",
    "        # Sliding vertically\n",
    "        for j in range(O):\n",
    "            region = X[i:K+i, j:K+j]\n",
    "            # Retrieve that region of the image as a columns\n",
    "            X_[:,col] = region.ravel()\n",
    "            col += 1\n",
    "    return X_"
   ]
  },
  {
   "cell_type": "code",
   "execution_count": 41,
   "metadata": {},
   "outputs": [],
   "source": [
    "@timeit\n",
    "def im2col_inverse(x_, F, s=1, p=0):\n",
    "    N = 1\n",
    "    O = output_dim(X,F,s,p)\n",
    "    out = np.zeros((N,O,O))\n",
    "    \n",
    "    row = 0\n",
    "    # Populate horizontally\n",
    "    for i in range(O):\n",
    "        # Populate vertically\n",
    "        for j in range(O):\n",
    "            out[0,i,j] = x_[row]\n",
    "            row += 1\n",
    "    return out"
   ]
  },
  {
   "cell_type": "code",
   "execution_count": 42,
   "metadata": {},
   "outputs": [],
   "source": [
    "# Time comparison\n",
    "@timeit\n",
    "def regular_convolution(X,F,s=1,p=0):\n",
    "    return naiveconv1(X,F,s,p)\n",
    "\n",
    "@timeit\n",
    "def im2col_convolution(X,F,s=1,p=0):\n",
    "    x_ = im2col(X,F).T @ F.ravel()\n",
    "    return im2col_inverse(x_,F,s,p)"
   ]
  },
  {
   "cell_type": "markdown",
   "metadata": {},
   "source": [
    "## Experiments\n",
    "---\n",
    "Functions to create random images and kernels"
   ]
  },
  {
   "cell_type": "code",
   "execution_count": 51,
   "metadata": {},
   "outputs": [],
   "source": [
    "def image2D(H,W): return np.random.randint(-10,10,size=(H,W))\n",
    "def filter2D(K): return np.random.randint(-3,3,size=(K,K))\n",
    "def image3D(Cin,H,W): return np.random.randint(-10,10,size=(Cin,H,W))\n",
    "def filter3D(Cout,K): return np.random.randint(-3,3,size=(Cout,K,K))"
   ]
  },
  {
   "cell_type": "markdown",
   "metadata": {},
   "source": [
    "### Small Images and Kernels\n",
    "Images 3x3 with Kernels 2x2"
   ]
  },
  {
   "cell_type": "code",
   "execution_count": 55,
   "metadata": {},
   "outputs": [],
   "source": [
    "X = image2D(3,3)\n",
    "F = filter2D(2)\n",
    "s = 1; p = 0"
   ]
  },
  {
   "cell_type": "code",
   "execution_count": 56,
   "metadata": {},
   "outputs": [
    {
     "data": {
      "text/plain": [
       "[]"
      ]
     },
     "execution_count": 56,
     "metadata": {},
     "output_type": "execute_result"
    },
    {
     "data": {
      "image/png": "[encoded data removed]",
      "text/plain": [
       "<Figure size 432x288 with 2 Axes>"
      ]
     },
     "metadata": {
      "needs_background": "light"
     },
     "output_type": "display_data"
    }
   ],
   "source": [
    "fig, axes = plt.subplots(1,2)\n",
    "sns.heatmap(X, annot=True, fmt=\"d\",  cbar=False, cmap='Blues', ax=axes[0]).set_title('Image')\n",
    "sns.heatmap(F, annot=True, fmt=\"d\",  cbar=False, cmap='Greens', ax=axes[1]).set_title('Kernel')\n",
    "plt.plot()"
   ]
  },
  {
   "cell_type": "code",
   "execution_count": 63,
   "metadata": {},
   "outputs": [
    {
     "name": "stdout",
     "output_type": "stream",
     "text": [
      "'naiveconv1'  0.04 ms\n",
      "'regular_convolution'  0.09 ms\n",
      "'im2col'  0.33 ms\n",
      "'im2col_inverse'  0.02 ms\n",
      "'im2col_convolution'  0.52 ms\n"
     ]
    }
   ],
   "source": [
    "out = regular_convolution(X,F)\n",
    "out_ = im2col_convolution(X,F)"
   ]
  },
  {
   "cell_type": "markdown",
   "metadata": {},
   "source": [
    "##### Analysis\n",
    "For these small sizes, it looks like the effort to do the im2col operation is in fact the bottleneck!"
   ]
  },
  {
   "cell_type": "markdown",
   "metadata": {},
   "source": [
    "##### Double check both approaches have the same result"
   ]
  },
  {
   "cell_type": "code",
   "execution_count": 64,
   "metadata": {},
   "outputs": [
    {
     "name": "stdout",
     "output_type": "stream",
     "text": [
      "Same results:  True\n"
     ]
    }
   ],
   "source": [
    "print('Same results: ', (out == out_).all())"
   ]
  },
  {
   "cell_type": "markdown",
   "metadata": {},
   "source": [
    "### Small Images and Kernels\n",
    "Images 3x3 with Kernels 2x2"
   ]
  },
  {
   "cell_type": "code",
   "execution_count": 66,
   "metadata": {},
   "outputs": [],
   "source": [
    "X = image2D(332,332)\n",
    "F = filter2D(5)\n",
    "s = 1; p = 0"
   ]
  },
  {
   "cell_type": "code",
   "execution_count": 67,
   "metadata": {},
   "outputs": [
    {
     "name": "stdout",
     "output_type": "stream",
     "text": [
      "'naiveconv1'  1367.95 ms\n",
      "'regular_convolution'  1368.03 ms\n",
      "'im2col'  185.31 ms\n",
      "'im2col_inverse'  28.67 ms\n",
      "'im2col_convolution'  223.66 ms\n"
     ]
    }
   ],
   "source": [
    "out = regular_convolution(X,F)\n",
    "out_ = im2col_convolution(X,F)"
   ]
  },
  {
   "cell_type": "markdown",
   "metadata": {},
   "source": [
    "##### Analysis\n",
    "However, for these bigger images im2col approach becomes way"
   ]
  }
 ],
 "metadata": {
  "kernelspec": {
   "display_name": "Python 3",
   "language": "python",
   "name": "python3"
  },
  "language_info": {
   "codemirror_mode": {
    "name": "ipython",
    "version": 3
   },
   "file_extension": ".py",
   "mimetype": "text/x-python",
   "name": "python",
   "nbconvert_exporter": "python",
   "pygments_lexer": "ipython3",
   "version": "3.7.0"
  },
  "varInspector": {
   "cols": {
    "lenName": 16,
    "lenType": 16,
    "lenVar": 40
   },
   "kernels_config": {
    "python": {
     "delete_cmd_postfix": "",
     "delete_cmd_prefix": "del ",
     "library": "var_list.py",
     "varRefreshCmd": "print(var_dic_list())"
    },
    "r": {
     "delete_cmd_postfix": ") ",
     "delete_cmd_prefix": "rm(",
     "library": "var_list.r",
     "varRefreshCmd": "cat(var_dic_list()) "
    }
   },
   "types_to_exclude": [
    "module",
    "function",
    "builtin_function_or_method",
    "instance",
    "_Feature"
   ],
   "window_display": false
  }
 },
 "nbformat": 4,
 "nbformat_minor": 2
}
