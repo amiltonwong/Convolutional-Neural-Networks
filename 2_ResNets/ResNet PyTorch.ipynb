{
 "cells": [
  {
   "cell_type": "markdown",
   "metadata": {},
   "source": [
    "# ResNets\n",
    "---\n",
    "\n",
    "This notebook is a PyTorch implementation that follows this [theoretical documentation](link) \n",
    "\n",
    "## Structure\n",
    "\n",
    "<img src='https://github.com/PabloRR100/Convolutional-Neural-Networks/blob/master/images/resnets/paper_structure.png?raw=true' style=\"float:right; width:55%\">\n",
    "\n",
    "\n",
    "<div class=text-justify>\n",
    "    <br>\n",
    "Since ResNets can have variable sizes, depending on how big each of the layers of the model are, and how many layers it has, we will follow the described by the authors in the <a href='https://arxiv.org/pdf/1512.03385.pdf'> paper </a> [1] - ResNet 34 - in order to explain the structure after these networks.  \n",
    "    <br><br>\n",
    "If you have taken a look at the paper, you will have probably seen some figures and tables like the following ones, that you are struggling to follow. Let’s depict those figures by going into the detail of every step.\n",
    "   <br><br>\n",
    "In here we can see that the ResNet (the one on the right) consists on one convolution and pooling step (on orange) followed by 4 layers of similar behavior. \n",
    "    <br><br>\n",
    "Each of the layers follow the same pattern. They perform 3x3 convolution with a fixed feature map dimension (F) [64, 128, 256, 512] respectively, bypassing the input every 2 convolutions. Furthermore, the width (W) and height (H) dimensions remain constant during the entire layer.\n",
    "The dotted line is there precisely because there has been a change in the dimension of the input volume (of course a reduction because of the convolution). Note that this reduction between layers is achieved by an increase on the stride, from 1 to 2, at the first convolution of each layer; instead of by a pooling operation, which we are used to see as down samplers. \n",
    "    <br><br>\n",
    "In the table, there is a summary of the output size at every layer and the dimension of the convolutional kernels at every point in the structure.\n",
    " \n",
    "\n",
    "</div>\n",
    "\n"
   ]
  },
  {
   "cell_type": "markdown",
   "metadata": {},
   "source": [
    "<div class=text-justify>\n",
    "I prefer to observe how actually the volumes that are going through the model are changing their sizes. This way is easier to understand the mechanism of a particular model, to be able to adjust it to our particular needs – we will see how just changing the dataset forces to change the architecture of the entire model. Also, I will try to follow the notation close to the PyTorch official implementation to make it easier to later implement it on PyTorch.\n",
    "    <br><br>\n",
    "For instance, ResNet on the paper is mainly explained for ImageNet dataset. But the first time I wanted to make an experiment with ensembles of ResNets, I had to do it on CIFAR10. Obviously, since CIFAR10 input images are (32x32) instead of (224x224), the structure of the ResNets need to be modify. If you want to have a control on the modifications to apply to your ResNet, you need to understand the details. \n",
    "So, let’s go layer by layer!\n",
    "    \n",
    "<img src='https://github.com/PabloRR100/Convolutional-Neural-Networks/blob/master/images/resnets/overview.png?raw=true'>\n",
    "\n",
    "</div>\n"
   ]
  },
  {
   "cell_type": "markdown",
   "metadata": {},
   "source": [
    "## Conv_1\n",
    "\n",
    "<div class=text-justify>\n",
    "The first step on the ResNet before entering the common layer behavior is a block – called here Conv1 – consisting on a convolution + batch normalization + max pooling operation.\n",
    "    <br><br>\n",
    "    \n",
    "So, first there is a convolution operation. In the Figure 1 we can see that they use a kernel size of 7, and a feature map size of 64. You need to infer that they have padded with zeros 3 times on each dimension – and check it on the PyTorch documentation. Taken this into account, it can be seen in Figure 4 that the output size of that operation will be a (112x122) volume. Since each convolution filter (of the 64) is providing one channel in the output volume, we end up with a (112x112x64) output volume – note this is free of the batch dimension to simplify the explanation\n",
    "    <br><br>\n",
    "    \n",
    "<img src='https://github.com/PabloRR100/Convolutional-Neural-Networks/blob/master/images/resnets/1_conv1_conv.png?raw=true' style='width:60%'>\n",
    "    <hr>\n",
    "<img src='https://github.com/PabloRR100/Convolutional-Neural-Networks/blob/master/images/resnets/1_conv1_maxpool.png?raw=true'>\n",
    "    \n",
    "</div>    \n",
    "  \n",
    "We can check now the implementation of this first block in the PyTorch source code:"
   ]
  },
  {
   "cell_type": "code",
   "execution_count": null,
   "metadata": {},
   "outputs": [],
   "source": [
    "class ResNet(nn.Module):\n",
    "\n",
    "    def __init__(self, block, layers, num_classes=1000):\n",
    "        self.inplanes = 64\n",
    "        super(ResNet, self).__init__()\n",
    "        self.conv1 = nn.Conv2d(3, 64, kernel_size=7, stride=2, padding=3,\n",
    "                               bias=False)\n",
    "        self.bn1 = nn.BatchNorm2d(64)\n",
    "        self.relu = nn.ReLU(inplace=True)\n",
    "        self.maxpool = nn.MaxPool2d(kernel_size=3, stride=2, padding=1)"
   ]
  },
  {
   "cell_type": "markdown",
   "metadata": {},
   "source": [
    "## ResNet Layers\n",
    " \n",
    "<div class=text-justify>\n",
    "    <br>\n",
    "So, let’s explain this repeating name, block. Every layer of a ResNet is composed of several blocks. This is because when ResNets go deeper, they normally do it by increasing the number of operations within a block, but the number of total layers remains the same – 4. An operation here refers to a convolution a batch normalization and a ReLU activation to an input, except the last operation of a block, that does not have the ReLU.  Therefore, in the PyTorch implementation they distinguish between the blocks that includes 2 operations – Basic Block – and the blocks that include 3 operations – Bottleneck Block.  Note that normally each of these operations is called layer, but we are using layer already for a group of blocks. Let's see the case for a Basic Block then.\n",
    "</div>\n",
    "\n",
    "### Block 1\n",
    "\n",
    "#### Convolution 1\n",
    "\n",
    "We are replicating the simplified operation for every layer on the paper. \n",
    "    <br>\n",
    "<img src='https://github.com/PabloRR100/Convolutional-Neural-Networks/blob/master/images/resnets/2_block1_1.png?raw=true' style='width:50%'>\n",
    "    <br>\n",
    "\n",
    "<div class=text-justify>\n",
    "We can double check now in the table from the paper we are using [3x3, 64] kernel and the output size is [56x56]. We can see how, as we mentioned previously, the size of the volume does not change within a block. This is because a padding = 1 is used and a stride of also 1. Let’s see how this extends to an entire block, to cover the 2 [3x3, 64] that appears in the table.\n",
    "</div>\n",
    "    <br>\n",
    "<img src='https://github.com/PabloRR100/Convolutional-Neural-Networks/blob/master/images/resnets/2_block1_2.png?raw=true' style='width:100%'>\n",
    "    <br>\n",
    "\n",
    "<div class=text-justify>\n",
    "Let's take a look at the PyTorch implementation now.  \n",
    "According to what we saw at the beggining, there are 2 operations every block, consisting on Conv-BN-ReLU, except the last one without the relu.  \n",
    "Here, downsample is declared to chec the cases when downsample is required to match the dimensions between two different volumes, that we have not seen yet.\n",
    "\n",
    "</div>"
   ]
  },
  {
   "cell_type": "code",
   "execution_count": null,
   "metadata": {},
   "outputs": [],
   "source": [
    "class BasicBlock(nn.Module):\n",
    "    expansion = 1\n",
    "\n",
    "    def __init__(self, inplanes, planes, stride=1, downsample=None):\n",
    "        super(BasicBlock, self).__init__()\n",
    "        self.conv1 = conv3x3(inplanes, planes, stride)\n",
    "        self.bn1 = nn.BatchNorm2d(planes)\n",
    "        self.relu = nn.ReLU(inplace=True)\n",
    "        self.conv2 = conv3x3(planes, planes)\n",
    "        self.bn2 = nn.BatchNorm2d(planes)\n",
    "        self.downsample = downsample\n",
    "        self.stride = stride"
   ]
  },
  {
   "cell_type": "markdown",
   "metadata": {},
   "source": [
    "    \n",
    "    \n",
    "<div class=text-justify>\n",
    "The same procedure can be expanded to the entire layer then as in the next figure. Now, we can completely read the whole cell of the table (just recap we are in the 34 layers ResNet at Conv2_x layer. We can see how we have the [3x3, 64] x 3 times within the layer.\n",
    "    <br>\n",
    "<img src='https://github.com/PabloRR100/Convolutional-Neural-Networks/blob/master/images/resnets/2_block1_3.png?raw=true' style='width:100%'>   \n",
    "</div>\n",
    "\n",
    "#### Patterns\n",
    "\n",
    "<div class=text-justify>\n",
    "The next step is to escalate from the entire block to the entire layer. In the Figure 1 we can see how the layers are differentiable by colors. However, if we look at the first operation of each layer, we see that the stride used at that first one is 2, instead of 1 like for the rest of them.\n",
    "    <br><br>\n",
    "This means that the <b><i>down sampling of the volume though the network is achieved by increasing the stride instead of a pooling operation</i></b> like normally CNNs do. In fact, only one max pooling operation is performed in our Conv1 layer, and one average pooling layer at the end of the ResNet, right before the fully connected dense layer.\n",
    "    <br><br>\n",
    "We can also see another repeating pattern over the layers of the ResNet, the dot layer representing the change of the dimensionality. This agrees with what we just said. The first operation of each layer is reducing the dimension, so we also need to resize the volume that goes through the skip connection, so we could add them like we did before. \n",
    "    <br><br>\n",
    "This difference on the skip connections are the so called in the paper as <b><i>Identity Shortcut</i></b> and <b><i>Projection Shortcut</i></b>. The identity shortcut is the one we have already discussed, simply bypassing the input volume to the addition operator. The projection shortcut performs a convolution operation to ensure the volumes at this addition operation are the same size. From the paper we can see that there are 2 options for matching the output size. Either <b><i>padding the input volume or perform 1x1 convolutions</i></b>. Here, this second option is shown.\n",
    "\n",
    "<img src='https://github.com/PabloRR100/Convolutional-Neural-Networks/blob/master/images/resnets/3_block2_1.png?raw=true' style='width:100%'>   \n",
    "\n",
    "Last figure represents this down sampling performed by increasing the stride to 2. The number of filters is duplicated in an attempt to preserve the time complexity for every operation (56*64=28*128). Also, note that now the addition operation cannot be performed since the volume got modified. In the shortcut we need to apply one of our down sampling strategies. The 1x1 convolution approach is shown here: \n",
    "\n",
    "<img src='https://github.com/PabloRR100/Convolutional-Neural-Networks/blob/master/images/resnets/3_block2_2.png?raw=true' style='width:100%'>   \n",
    "\n",
    "The final picture looks then like the next figure, where now the 2 output volumes of each thread has the same size and can be added.\n",
    "\n",
    "<img src='https://github.com/PabloRR100/Convolutional-Neural-Networks/blob/master/images/resnets/3_block2_3.png?raw=true' style='width:100%'>   \n",
    "\n",
    "\n",
    "Finally, this would be the appearence of the entire layer:\n",
    "\n",
    "<img src='https://github.com/PabloRR100/Convolutional-Neural-Networks/blob/master/images/resnets/3_block2_4.png?raw=true' style='width:100%'>   \n",
    "\n",
    "</div>\n",
    "\n",
    "And the forward method for the ```Basic Block``` is then:"
   ]
  },
  {
   "cell_type": "code",
   "execution_count": 4,
   "metadata": {},
   "outputs": [],
   "source": [
    "    def forward(self, x):\n",
    "            residual = x\n",
    "\n",
    "            out = self.conv1(x)\n",
    "            out = self.bn1(out)\n",
    "            out = self.relu(out)\n",
    "\n",
    "            out = self.conv2(out)\n",
    "            out = self.bn2(out)\n",
    "\n",
    "            if self.downsample is not None:\n",
    "                residual = self.downsample(x)\n",
    "\n",
    "            out += residual\n",
    "            out = self.relu(out)\n",
    "\n",
    "            return out"
   ]
  },
  {
   "cell_type": "markdown",
   "metadata": {},
   "source": [
    "We are able now to complete the code we left on the definition on the ResNet, including the four layers, the final average pooling layer, and the fully connected layer before the softmax"
   ]
  },
  {
   "cell_type": "code",
   "execution_count": null,
   "metadata": {},
   "outputs": [],
   "source": [
    "class ResNet(nn.Module):\n",
    "\n",
    "    def __init__(self, block, layers, num_classes=1000):\n",
    "        self.inplanes = 64\n",
    "        super(ResNet, self).__init__()\n",
    "        self.conv1 = nn.Conv2d(3, 64, kernel_size=7, stride=2, padding=3,\n",
    "                               bias=False)\n",
    "        self.bn1 = nn.BatchNorm2d(64)\n",
    "        self.relu = nn.ReLU(inplace=True)\n",
    "        self.maxpool = nn.MaxPool2d(kernel_size=3, stride=2, padding=1)\n",
    "        self.layer1 = self._make_layer(block, 64, layers[0])\n",
    "        self.layer2 = self._make_layer(block, 128, layers[1], stride=2)\n",
    "        self.layer3 = self._make_layer(block, 256, layers[2], stride=2)\n",
    "        self.layer4 = self._make_layer(block, 512, layers[3], stride=2)\n",
    "        self.avgpool = nn.AvgPool2d(7, stride=1)\n",
    "        self.fc = nn.Linear(512 * block.expansion, num_classes)"
   ]
  },
  {
   "cell_type": "markdown",
   "metadata": {},
   "source": [
    "The ```_make_layer()``` function recieves which type of block we are using, the number of incoming filters, the number of blocks in each layer - therfore, a list of 4 elements - and the stride to use for the convolution operation. Remember that the first convolution of each block will be 2, and the rest will be 1.\n",
    "\n",
    "In this work we have only mentioned the ```Basic Block``` because it is the one used for ```ResNet34```. The ```Bottleneck Block``` simply adds one more operation within a block.  \n",
    "\n",
    "Then, it constructs the ```Sequential Model``` that comprises the information passed on those arguments."
   ]
  },
  {
   "cell_type": "code",
   "execution_count": 6,
   "metadata": {},
   "outputs": [],
   "source": [
    "def _make_layer(self, block, planes, blocks, stride=1):\n",
    "        downsample = None\n",
    "        if stride != 1 or self.inplanes != planes * block.expansion:\n",
    "            downsample = nn.Sequential(\n",
    "                nn.Conv2d(self.inplanes, planes * block.expansion,\n",
    "                          kernel_size=1, stride=stride, bias=False),\n",
    "                nn.BatchNorm2d(planes * block.expansion),\n",
    "            )\n",
    "\n",
    "        layers = []\n",
    "        layers.append(block(self.inplanes, planes, stride, downsample))\n",
    "        self.inplanes = planes * block.expansion\n",
    "        for i in range(1, blocks):\n",
    "            layers.append(block(self.inplanes, planes))\n",
    "\n",
    "        return nn.Sequential(*layers)"
   ]
  },
  {
   "cell_type": "markdown",
   "metadata": {},
   "source": [
    "Finally, the forward method of the entire ResNet will be to apply the first Block, then all the layers, the the average pooling, flatten and fully connected layers."
   ]
  },
  {
   "cell_type": "code",
   "execution_count": 7,
   "metadata": {},
   "outputs": [],
   "source": [
    "def forward(self, x):\n",
    "        x = self.conv1(x)    # 224x224\n",
    "        x = self.bn1(x)     \n",
    "        x = self.relu(x)\n",
    "        x = self.maxpool(x)  # 112x112\n",
    "\n",
    "        x = self.layer1(x)   # 56x56\n",
    "        x = self.layer2(x)   # 28x28\n",
    "        x = self.layer3(x)   # 14x14\n",
    "        x = self.layer4(x)   # 7x7\n",
    "\n",
    "        x = self.avgpool(x)  # 1x1\n",
    "        x = x.view(x.size(0), -1)\n",
    "        x = self.fc(x)\n",
    "\n",
    "        return x"
   ]
  },
  {
   "cell_type": "markdown",
   "metadata": {},
   "source": [
    "<div class=text-justify>\n",
    "\n",
    "To construct the different ResNet possibilities, we just need to call the model and pass the list with the information of the blocks for each layer.  \n",
    "I have removed the pretrained argument for simplifaction. If true, it just simply returns the weights of an already pretrained model on ImageNet, instead of random initialization.  \n",
    "\n",
    "In out particular case of ResNet34:\n",
    "\n",
    "</div>"
   ]
  },
  {
   "cell_type": "code",
   "execution_count": 8,
   "metadata": {},
   "outputs": [],
   "source": [
    "def resnet34(**kwargs):\n",
    "    model = ResNet(BasicBlock, [3, 4, 6, 3], **kwargs)\n",
    "    return model"
   ]
  },
  {
   "cell_type": "code",
   "execution_count": null,
   "metadata": {},
   "outputs": [],
   "source": []
  }
 ],
 "metadata": {
  "kernelspec": {
   "display_name": "Python 3",
   "language": "python",
   "name": "python3"
  },
  "language_info": {
   "codemirror_mode": {
    "name": "ipython",
    "version": 3
   },
   "file_extension": ".py",
   "mimetype": "text/x-python",
   "name": "python",
   "nbconvert_exporter": "python",
   "pygments_lexer": "ipython3",
   "version": "3.6.6"
  }
 },
 "nbformat": 4,
 "nbformat_minor": 2
}
